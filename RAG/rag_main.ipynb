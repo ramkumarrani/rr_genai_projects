{
 "cells": [
  {
   "cell_type": "markdown",
   "metadata": {},
   "source": [
    "## Data Harvesting (GenAI enabled)\n",
    "\n",
    "This notebook illustrates how I built an advanced RAG (Retrieval Augmented Generation) based data harvesting (AI enabled), using following open source components:\n",
    "\n",
    "1. LlamaIndex (AI Framework)\n",
    "2. ChromaDB\n",
    "\n",
    "Due to proprietary nature of work, I cannot reveal full details.  However, this notebook will try to mimic as much as possible.\n",
    "\n",
    "For this use case, we have used Azure OpenAI GPT4o LLM and ada-2 embedding models.  I will try to mimic the same models for this illustration purpose.  For data feed to RAG, I will use toy data, which I extracted from online.  \n",
    "\n",
    "This notebook will show all components of the project, except UI.  "
   ]
  },
  {
   "cell_type": "markdown",
   "metadata": {},
   "source": [
    "This notebook covers following:\n",
    "1. RAG aka. Naive RAG --> showing RAG flow, and its shortcomings\n",
    "2. Advanced RAG --> We will introduce Reranker for RAG fine-tuning.  Reranker is one of RAG fine tuning optimization technique to fix the shortcomings\n",
    "3. The following components have been added along with RAG results: Citations, Score and Metadata\n",
    "4. Persist RAG index in ChromaDB"
   ]
  },
  {
   "cell_type": "markdown",
   "metadata": {},
   "source": [
    "### Import Required Python Libraries"
   ]
  },
  {
   "cell_type": "code",
   "execution_count": 1,
   "metadata": {},
   "outputs": [],
   "source": [
    "import os, json\n",
    "from dotenv import load_dotenv\n",
    "\n",
    "import chromadb"
   ]
  },
  {
   "cell_type": "code",
   "execution_count": 2,
   "metadata": {},
   "outputs": [
    {
     "data": {
      "text/plain": [
       "True"
      ]
     },
     "execution_count": 2,
     "metadata": {},
     "output_type": "execute_result"
    }
   ],
   "source": [
    "load_dotenv()"
   ]
  },
  {
   "cell_type": "code",
   "execution_count": 3,
   "metadata": {},
   "outputs": [],
   "source": [
    "from llama_index.llms.azure_openai import AzureOpenAI\n",
    "from llama_index.embeddings.azure_openai import AzureOpenAIEmbedding\n",
    "from llama_index.vector_stores.chroma import ChromaVectorStore\n",
    "\n",
    "from llama_index.core import (\n",
    "    SimpleDirectoryReader, \n",
    "    VectorStoreIndex, \n",
    "    Settings,\n",
    "    StorageContext\n",
    ")\n",
    "from llama_index.core.postprocessor import LLMRerank\n",
    "\n",
    "from llama_index.core.evaluation import RelevancyEvaluator, BatchEvalRunner"
   ]
  },
  {
   "cell_type": "code",
   "execution_count": 4,
   "metadata": {},
   "outputs": [],
   "source": [
    "os.environ[\"OPENAI_API_VERSION\"] = os.getenv(\"OPENAI_API_VERSION\")\n",
    "os.environ[\"OPENAI_API_BASE\"] = os.getenv(\"OPENAI_API_BASE\")\n",
    "os.environ[\"OPENAI_API_KEY\"] = os.getenv(\"OPENAI_API_KEY\")"
   ]
  },
  {
   "cell_type": "markdown",
   "metadata": {},
   "source": [
    "### Define LLM and Embedding models.  These are required for RAG operations"
   ]
  },
  {
   "cell_type": "code",
   "execution_count": 5,
   "metadata": {},
   "outputs": [],
   "source": [
    "llm = AzureOpenAI(\n",
    "    engine = \"<engine name>\",\n",
    "    model=\"gpt-4o\",\n",
    "    temperature=0.0,\n",
    "    azure_endpoint = os.environ['OPENAI_API_BASE'],\n",
    "    api_key = os.environ['OPENAI_API_KEY'],\n",
    "    api_version = os.environ['OPENAI_API_VERSION'],\n",
    ")\n",
    "\n",
    "embed_model = AzureOpenAIEmbedding (\n",
    "    model = \"text-embedding-ada-002\",\n",
    "    deployment_name= \"<deployment name>\",\n",
    "    azure_endpoint = os.environ['OPENAI_API_BASE'],\n",
    "    api_key = os.environ['OPENAI_API_KEY'],\n",
    "    api_version = os.environ['OPENAI_API_VERSION'],\n",
    ")"
   ]
  },
  {
   "cell_type": "code",
   "execution_count": 6,
   "metadata": {},
   "outputs": [],
   "source": [
    "# set LLM and embeddings at the global level\n",
    "Settings.llm = llm\n",
    "Settings.embed_model = embed_model"
   ]
  },
  {
   "cell_type": "markdown",
   "metadata": {},
   "source": [
    "### Load external business data, create index, and create query engine"
   ]
  },
  {
   "cell_type": "code",
   "execution_count": 7,
   "metadata": {},
   "outputs": [
    {
     "name": "stderr",
     "output_type": "stream",
     "text": [
      "Retrying llama_index.embeddings.openai.base.OpenAIEmbedding._get_text_embeddings.<locals>._retryable_get_embeddings in 0.580867289478094 seconds as it raised RateLimitError: Error code: 429 - {'error': {'code': '429', 'message': 'Requests to the Embeddings_Create Operation under Azure OpenAI API version 2023-05-15 have exceeded call rate limit of your current OpenAI S0 pricing tier. Please retry after 1 second. Please go here: https://aka.ms/oai/quotaincrease if you would like to further increase the default rate limit.'}}.\n"
     ]
    }
   ],
   "source": [
    "data = SimpleDirectoryReader(input_files=[\"gs_MA_report.pdf\"]).load_data()\n",
    "index = VectorStoreIndex.from_documents(data)\n",
    "\n",
    "query_engine = index.as_query_engine(streaming=True, \n",
    "                                     similarity_top_k=10\n",
    "                                    )"
   ]
  },
  {
   "cell_type": "markdown",
   "metadata": {},
   "source": [
    "### Test query engine with a prompt"
   ]
  },
  {
   "cell_type": "code",
   "execution_count": 8,
   "metadata": {},
   "outputs": [
    {
     "name": "stdout",
     "output_type": "stream",
     "text": [
      "CPU times: total: 125 ms\n",
      "Wall time: 1.53 s\n"
     ]
    }
   ],
   "source": [
    "%%time\n",
    "query_impact = \"\"\"What was the impact of GenAI on global M&A activity in 2025? \n",
    "Show statements in bullet form and show page references after each statement.\"\"\"\n",
    "\n",
    "query_quarter = \"which quarter typically saw maximum deal activities, as mentioned in the document?\"\n",
    "\n",
    "response = query_engine.query(query_impact)"
   ]
  },
  {
   "cell_type": "code",
   "execution_count": 9,
   "metadata": {},
   "outputs": [
    {
     "name": "stdout",
     "output_type": "stream",
     "text": [
      "- Generative AI is expected to unlock efficiencies that will be deflationary and potentially disruptive for some SaaS companies, pushing down valuations and, in certain cases, driving them to go private. (page 8)\n",
      "- Software companies with entrenched customer relationships and proprietary datasets represent beachheads for AI transformation and have already produced solid M&A outcomes. (page 8)\n",
      "- AI-driven M&A activity has been concentrated at the Infrastructure and Platform layers, with significant investments and dealmaking in response to the growing demand for infrastructure. (page 9)\n",
      "- The anticipated wave of industry transformation is already catalyzing M&A in certain software companies, with notable transactions including Salesforce acquiring Own and IBM announcing its intent to acquire HashiCorp. (page 9)None\n"
     ]
    }
   ],
   "source": [
    "# Stream RAG response\n",
    "\n",
    "print(response.print_response_stream())"
   ]
  },
  {
   "cell_type": "markdown",
   "metadata": {},
   "source": [
    "#### Results presentation in JSON"
   ]
  },
  {
   "cell_type": "markdown",
   "metadata": {},
   "source": [
    "Create JSON object, showing following:\n",
    "\n",
    "1. Node text \n",
    "2. Metadata associated with similarity nodes\n",
    "3. Similarity score"
   ]
  },
  {
   "cell_type": "code",
   "execution_count": 10,
   "metadata": {},
   "outputs": [],
   "source": [
    "f_text = []\n",
    "f_metadata = []\n",
    "f_score = []\n",
    "for node in response.source_nodes:\n",
    "    text_fmt = node.node.get_content().strip().replace(\"\\n\", \" \")[:1000]\n",
    "    f_text.append(text_fmt)\n",
    "    f_metadata.append(node.node.metadata)\n",
    "    f_score.append(node.score)"
   ]
  },
  {
   "cell_type": "code",
   "execution_count": 11,
   "metadata": {},
   "outputs": [],
   "source": [
    "d = [ { 'text': x, 'metadata': y, 'similarity_score': z } \n",
    "      for x, y, z in zip(f_text, f_metadata, f_score) ]\n",
    "\n",
    "pretty_json = json.dumps(d, sort_keys=True, indent=4)"
   ]
  },
  {
   "cell_type": "code",
   "execution_count": 12,
   "metadata": {},
   "outputs": [
    {
     "name": "stdout",
     "output_type": "stream",
     "text": [
      "[\n",
      "    {\n",
      "        \"metadata\": {\n",
      "            \"creation_date\": \"2025-01-29\",\n",
      "            \"file_name\": \"gs_MA_report.pdf\",\n",
      "            \"file_path\": \"gs_MA_report.pdf\",\n",
      "            \"file_size\": 1927766,\n",
      "            \"file_type\": \"application/pdf\",\n",
      "            \"last_modified_date\": \"2025-01-29\",\n",
      "            \"page_label\": \"3\"\n",
      "        },\n",
      "        \"similarity_score\": 0.8524298702704144,\n",
      "        \"text\": \"3 2025 M&A OUTLOOK BUILDING MOMENTUM ON A GLOBAL STAGE M&A is building  momentum on a global  stage, and leadership  teams are emboldened.  Our 2025 Outlook  explores what drivers  will unlock growth and  transformation in the  year ahead.  Newfound macro clarity will spur the next substantial  wave in corporate dealmaking     With key M&A bottlenecks of monetary policy and regulatory uncertainty  addressed\\u2014at least directionally\\u2014CEO confidence is rising amid  broader expectations that the new US administration will usher in more  supportive regulatory policies, fueling corporate M&A. Simplification is becoming more sophisticated, more  valuable, and more global     More than half of global separation announcements in 2024 occurred  outside the United States.5 Driven by a mixture of portfolio complexity  and optimal capital allocation, corporate separation activity remains  strong across the globe, with few signs of slowing. Facing a push to deploy, sponsors acknowledge it\\u2019s   time to \"\n",
      "    },\n",
      "    {\n",
      "        \"metadata\": {\n",
      "            \"creation_date\": \"2025-01-29\",\n",
      "            \"file_name\": \"gs_MA_report.pdf\",\n",
      "            \"file_path\": \"gs_MA_report.pdf\",\n",
      "            \"file_size\": 1927766,\n",
      "            \"file_type\": \"application/pdf\",\n",
      "            \"last_modified_date\": \"2025-01-29\",\n",
      "            \"page_label\": \"2\"\n",
      "        },\n",
      "        \"similarity_score\": 0.8349583100105546,\n",
      "        \"text\": \"For over a year, capital markets have sought clarity on two common bottlenecks  for M&A: monetary policy and regulation. With these dynamics normalizing, a  generational technology disrupting industries, sponsors seeking liquidity, and a  growing desire from corporates to transform their portfolios through M&A, we  expect significant upside potential for dealmaking next year\\u2014but with a healthy  dose of volatility as capital markets navigate \\u201cknown unknowns\\u201d in the form of tariffs,  geopolitics, and more. Although global M&A volumes rose +15% YoY,1 aggregated numbers tell only half the  story. M&A volumes relative to global market cap currently sit at 20-year lows, and  sentiment is improving, with leaders focused not just on stability but on growth.2 In  a November survey of Goldman Sachs Investment Banking clients, which includes  both corporates and financial sponsors, nearly half of respondents believe strategic  growth and the addition of new capabilities will be the primary driver\"\n",
      "    },\n",
      "    {\n",
      "        \"metadata\": {\n",
      "            \"creation_date\": \"2025-01-29\",\n",
      "            \"file_name\": \"gs_MA_report.pdf\",\n",
      "            \"file_path\": \"gs_MA_report.pdf\",\n",
      "            \"file_size\": 1927766,\n",
      "            \"file_type\": \"application/pdf\",\n",
      "            \"last_modified_date\": \"2025-01-29\",\n",
      "            \"page_label\": \"8\"\n",
      "        },\n",
      "        \"similarity_score\": 0.8348873980867262,\n",
      "        \"text\": \"8 2025 M&A OUTLOOK BUILDING MOMENTUM ON A GLOBAL STAGE AI-Driven M&A: A Strategic Focus on the Stack The scale of AI\\u2019s economic potential is rivaled only by the capital needed to unlock it. US hyperscalers have invested $200B   and are forecasted to spend $1T by 2026.32 Alongside the anticipated wave of industry transformation, there has already been   a surge of M&A in functional and vertical software companies\\u2014with a focus on durable business models and upside potential. Unprecedented infrastructure investments are fueling the AI revolution33  42% NVIDIA GPUs  & Other48% Other AI CapEx (Data Centers, Networking, etc.) 3% Other AI XPUs 3% AMD GPUs & Other4% TPUsSources$52B Enterprise & Govt Sinks $108B US Hyperscalers $52B Tier 2 CloudApplication Platform InfrastructureInfrastructure activity has centered around hyperscalers\\u2019 spend\\u2014particularly in data centers and power supply   as the primary vector for innovation has been the scaling of data, compute, and models. With data center  v\"\n",
      "    },\n",
      "    {\n",
      "        \"metadata\": {\n",
      "            \"creation_date\": \"2025-01-29\",\n",
      "            \"file_name\": \"gs_MA_report.pdf\",\n",
      "            \"file_path\": \"gs_MA_report.pdf\",\n",
      "            \"file_size\": 1927766,\n",
      "            \"file_type\": \"application/pdf\",\n",
      "            \"last_modified_date\": \"2025-01-29\",\n",
      "            \"page_label\": \"11\"\n",
      "        },\n",
      "        \"similarity_score\": 0.834623536457654,\n",
      "        \"text\": \"The global M&A landscape is positioned for a dynamic 2025.  The heightened geopolitical and economic uncertainties that characterized 2024 have given way to a  material shift in sentiment and strategic focus as the macro backdrop clarifies and sets the stage for an  economically pivotal year. As we navigate this landscape together, a readiness to capitalize on opportunities will be critical to  harness momentum.  We\\u2019re honored to partner with our clients to unlock growth and transformation in the year ahead. 11 2025 M&A OUTLOOK \\u201cWe\\u2019ve seen pockets of strength return in certain regions and products,  but a true rebound in global M&A has eluded capital markets for three  years. Now we finally have the key ingredients converging: favorable  macroeconomic conditions, a potentially more benign regulatory  environment, and a growing risk appetite among corporates.\\u201d Mark Sorrell  |  Co-Head of Global M&A #1  Global Investment Bank46 #1  Global M&A Advisor47\"\n",
      "    },\n",
      "    {\n",
      "        \"metadata\": {\n",
      "            \"creation_date\": \"2025-01-29\",\n",
      "            \"file_name\": \"gs_MA_report.pdf\",\n",
      "            \"file_path\": \"gs_MA_report.pdf\",\n",
      "            \"file_size\": 1927766,\n",
      "            \"file_type\": \"application/pdf\",\n",
      "            \"last_modified_date\": \"2025-01-29\",\n",
      "            \"page_label\": \"4\"\n",
      "        },\n",
      "        \"similarity_score\": 0.8333080881067818,\n",
      "        \"text\": \"4 2025 M&A OUTLOOK BUILDING MOMENTUM ON A GLOBAL STAGE Greater Macro Clarity Will Fuel Corporate M&A Globally, corporates are transitioning from net-sellers to net-buyers. Despite elevated interest rates and unusually high  regulatory uncertainty, corporate buyers still accounted for 71% of all deal activity through Q3\\u2014a stark contrast to the 61%  share of M&A in 2021 and 20226\\u2014reflecting a combination of pent-up demand, strong balance sheets, and a desire to refresh  portfolios through both separations and capability-enhancing acquisitions.  Increasing regulatory scrutiny in recent years has led to larger US deals ($10B+) taking nearly twice as long to close as they did  a decade ago.7 This governor on large-scale transactions has been exacerbated by hawkish monetary policy, a \\u201cdimmer switch\\u201d  for corporate M&A driving both valuations and debt financing costs. Merger arbitrage funds have been challenged by elongated  closing timelines and blocked mergers, and fundamental shareholders \"\n",
      "    },\n",
      "    {\n",
      "        \"metadata\": {\n",
      "            \"creation_date\": \"2025-01-29\",\n",
      "            \"file_name\": \"gs_MA_report.pdf\",\n",
      "            \"file_path\": \"gs_MA_report.pdf\",\n",
      "            \"file_size\": 1927766,\n",
      "            \"file_type\": \"application/pdf\",\n",
      "            \"last_modified_date\": \"2025-01-29\",\n",
      "            \"page_label\": \"13\"\n",
      "        },\n",
      "        \"similarity_score\": 0.8327336945192305,\n",
      "        \"text\": \"13  2025 M&A OUTLOOK BUILDING MOMENTUM ON A GLOBAL STAGEEndnotes 1, 2 Dealogic as of 30 Nov 2024 3, 4  Results based on a survey of 1,894 Goldman Sachs Investment Banking   clients\\u2014including corporates, financial sponsors, sovereign entities, and   nonprofits\\u2014conducted between 11/13/24 and 11/25/24 4   5 Dealo gic, DealPoint, FactSet, public company filings 6 Dealogic as of 30 Nov 2024 7 Bloomberg, Deal P oint Data, FactSet 8, 9 Dealo gic as of 30 Nov 2024 10 Dealogic and Internal GS Industry Classifications as of 30 Nov 2024 11-14  Dealogic as of 30 Nov 2024 12 13 14 15 Dealo gic, DealPoint, FactSet, public company filings as of 30 Nov 2024 16, 17 Dealo gic, DealPoint, FactSet, public company filings 18 Dealo gic, DealPoint, public company filings 19  DealPoint, CapIQ, IBES, press releases, and company filings. Database created   by Goldman Sachs Investment Banking, includes companies in the S&P 500   that re-segmented their portfolio and were subsequently tracked to see if   this res\"\n",
      "    },\n",
      "    {\n",
      "        \"metadata\": {\n",
      "            \"creation_date\": \"2025-01-29\",\n",
      "            \"file_name\": \"gs_MA_report.pdf\",\n",
      "            \"file_path\": \"gs_MA_report.pdf\",\n",
      "            \"file_size\": 1927766,\n",
      "            \"file_type\": \"application/pdf\",\n",
      "            \"last_modified_date\": \"2025-01-29\",\n",
      "            \"page_label\": \"9\"\n",
      "        },\n",
      "        \"similarity_score\": 0.8300898505446918,\n",
      "        \"text\": \"9 2025 M&A OUTLOOK BUILDING MOMENTUM ON A GLOBAL STAGE We view the AI era through an Infrastructure-Platform-Application framework ,38 with most activity to date  concentrated at the Infrastructure and Platform layers. The anticipated wave of industry transformation is already  catalyzing M&A in certain software companies. The sale of JAGGAER, a global leader in enterprise procurement  and supplier collaboration, to Vista Equity Partners, and Siemens'  intent to acquire Altair, a global leader in computational intelligence,  underscore how software companies can successfully orient  themselves for the AI era.  Salesforce acquired Own, whose tools enable organizations to  protect mission-critical data while generating deeper insights,  and IBM announced its intent to acquire HashiCorp to create a  comprehensive end-to-end hybrid cloud platform built for  AI-driven complexity. Blackstone announced its intent to acquire AirTrunk, APAC's largest  data center platform. Data center operator \"\n",
      "    },\n",
      "    {\n",
      "        \"metadata\": {\n",
      "            \"creation_date\": \"2025-01-29\",\n",
      "            \"file_name\": \"gs_MA_report.pdf\",\n",
      "            \"file_path\": \"gs_MA_report.pdf\",\n",
      "            \"file_size\": 1927766,\n",
      "            \"file_type\": \"application/pdf\",\n",
      "            \"last_modified_date\": \"2025-01-29\",\n",
      "            \"page_label\": \"1\"\n",
      "        },\n",
      "        \"similarity_score\": 0.828840811914286,\n",
      "        \"text\": \"2025  M&A Outlook Building Momentum on a Global Stage\"\n",
      "    },\n",
      "    {\n",
      "        \"metadata\": {\n",
      "            \"creation_date\": \"2025-01-29\",\n",
      "            \"file_name\": \"gs_MA_report.pdf\",\n",
      "            \"file_path\": \"gs_MA_report.pdf\",\n",
      "            \"file_size\": 1927766,\n",
      "            \"file_type\": \"application/pdf\",\n",
      "            \"last_modified_date\": \"2025-01-29\",\n",
      "            \"page_label\": \"10\"\n",
      "        },\n",
      "        \"similarity_score\": 0.8228691375269286,\n",
      "        \"text\": \"10  2025 M&A OUTLOOK BUILDING MOMENTUM ON A GLOBAL STAGECross-Border M&A Surged in 2024, Bolstering Expectations for Next Year After a more subdued period of activity, cross-regional M&A is starting to rebound. Within a broader uptick of EMEA activity,  flows between the United States and Europe have seen the strongest momentum\\u2014accounting for 44% of the volumes shown  below42 and including deals like British packaging company DS Smith's proposed sale to US-based International Paper Co. for  $9.8B. A flurry of cross-border transactions within EMEA have propelled volumes higher this year, including Abu Dhabi National  Oil Company announcing its intention to acquire Germany's Covestro for $18B.  The resurgence of cross-regional M&A in 2024 is best demonstrated by the uptick in APAC\\u2014contributing ~30% of global  transaction volumes and generating $150B of announced M&A in September alone.43 Even as China\\u2014the region\\u2019s largest   market\\u2014has seen declines in overall M&A volumes in recent years,\"\n",
      "    },\n",
      "    {\n",
      "        \"metadata\": {\n",
      "            \"creation_date\": \"2025-01-29\",\n",
      "            \"file_name\": \"gs_MA_report.pdf\",\n",
      "            \"file_path\": \"gs_MA_report.pdf\",\n",
      "            \"file_size\": 1927766,\n",
      "            \"file_type\": \"application/pdf\",\n",
      "            \"last_modified_date\": \"2025-01-29\",\n",
      "            \"page_label\": \"5\"\n",
      "        },\n",
      "        \"similarity_score\": 0.8224468080009919,\n",
      "        \"text\": \"5 2025 M&A OUTLOOK BUILDING MOMENTUM ON A GLOBAL STAGE A Global Shift Toward Simplification Corporate simplifications continue to fuel M&A as companies look to highlight undervalued assets, separate divergent  businesses, and sharpen geographic focus. Large-cap companies ($25B+) moving away from conglomerate models are  especially active\\u2014representing ~40% of announced and closed spin-offs in 2024.15 In the second quarter, 3M completed the  $20B spin-off of its healthcare business\\u2014now trading as Solventum Corporation\\u2014to enhance operational agility and tailor  capital allocation strategies to each independent company. Managing corporate assets across multiple regions carries significant operational complexities due to differing tax laws,  accounting treatments, and regulations\\u2014not to mention costs. Coupled with rising geopolitical tensions, evolving market  appetites created by the changing pace of energy transition, and a focus on optimizing capital allocation, regional separations  are\"\n",
      "    }\n",
      "]\n"
     ]
    }
   ],
   "source": [
    "print(pretty_json)"
   ]
  },
  {
   "cell_type": "markdown",
   "metadata": {},
   "source": [
    "Now, let us run RAG query for another prompt: query_quarter (defined above)"
   ]
  },
  {
   "cell_type": "code",
   "execution_count": 13,
   "metadata": {},
   "outputs": [
    {
     "name": "stdout",
     "output_type": "stream",
     "text": [
      "CPU times: total: 0 ns\n",
      "Wall time: 80.2 ms\n"
     ]
    }
   ],
   "source": [
    "%%time\n",
    "response2 = query_engine.query(query_quarter)"
   ]
  },
  {
   "cell_type": "code",
   "execution_count": 14,
   "metadata": {},
   "outputs": [
    {
     "name": "stdout",
     "output_type": "stream",
     "text": [
      "The second quarter typically saw maximum deal activities.None\n"
     ]
    }
   ],
   "source": [
    "print(response2.print_response_stream())"
   ]
  },
  {
   "cell_type": "markdown",
   "metadata": {},
   "source": [
    $${\color{red}"The above result is incorrect and we will try to fix this shortcoming using Advanced RAG.}$$  We will use reranking to fine tune RAG's retriever. Reranking is one of the powerful, simple and effective advanced RAG technique."
   ]
  },
  {
   "cell_type": "markdown",
   "metadata": {},
   "source": [
    "## Advanced RAG"
   ]
  },
  {
   "cell_type": "markdown",
   "metadata": {},
   "source": [
    "#### Technique: Reranker"
   ]
  },
  {
   "cell_type": "code",
   "execution_count": 15,
   "metadata": {},
   "outputs": [],
   "source": [
    "query_engine_rr = index.as_query_engine(\n",
    "    streaming=True, \n",
    "    similarity_top_k=10,\n",
    "    node_postprocessors = [\n",
    "        LLMRerank(\n",
    "            choice_batch_size=5,\n",
    "            top_n=2,\n",
    "        )\n",
    "    ],\n",
    "    response_mode = \"tree_summarize\",\n",
    ")"
   ]
  },
  {
   "cell_type": "code",
   "execution_count": 16,
   "metadata": {},
   "outputs": [],
   "source": [
    "response_rr = query_engine_rr.query(query_quarter)"
   ]
  },
  {
   "cell_type": "code",
   "execution_count": 17,
   "metadata": {},
   "outputs": [
    {
     "name": "stdout",
     "output_type": "stream",
     "text": [
      "The third quarter typically saw maximum deal activities.None\n"
     ]
    }
   ],
   "source": [
    "# Stream RAG response\n",
    "\n",
    "print(response_rr.print_response_stream())"
   ]
  },
  {
   "cell_type": "markdown",
   "metadata": {},
   "source": [
    "RESULT: As per the document that we fed into RAG, the Q3 is the right answer for this query.  This means, RAG fine tuning using Reranker worked in our use case.\n",
    "\n",
    "We can run RAG node data, score, and metadata - as we did with Naive RAG, for comparison"
   ]
  },
  {
   "cell_type": "code",
   "execution_count": 18,
   "metadata": {},
   "outputs": [],
   "source": [
    "f_text = []\n",
    "f_metadata = []\n",
    "f_score = []\n",
    "for node in response_rr.source_nodes:\n",
    "    text_fmt = node.node.get_content().strip().replace(\"\\n\", \" \")[:1000]\n",
    "    f_text.append(text_fmt)\n",
    "    f_metadata.append(node.node.metadata)\n",
    "    f_score.append(node.score)"
   ]
  },
  {
   "cell_type": "code",
   "execution_count": 19,
   "metadata": {},
   "outputs": [],
   "source": [
    "d = [ { 'text': x, 'metadata': y, 'similarity_score': z } \n",
    "      for x, y, z in zip(f_text, f_metadata, f_score) ]\n",
    "\n",
    "pretty_json_rr = json.dumps(d, sort_keys=True, indent=4)"
   ]
  },
  {
   "cell_type": "code",
   "execution_count": 20,
   "metadata": {},
   "outputs": [
    {
     "name": "stdout",
     "output_type": "stream",
     "text": [
      "[\n",
      "    {\n",
      "        \"metadata\": {\n",
      "            \"creation_date\": \"2025-01-29\",\n",
      "            \"file_name\": \"gs_MA_report.pdf\",\n",
      "            \"file_path\": \"gs_MA_report.pdf\",\n",
      "            \"file_size\": 1927766,\n",
      "            \"file_type\": \"application/pdf\",\n",
      "            \"last_modified_date\": \"2025-01-29\",\n",
      "            \"page_label\": \"4\"\n",
      "        },\n",
      "        \"similarity_score\": 8.0,\n",
      "        \"text\": \"4 2025 M&A OUTLOOK BUILDING MOMENTUM ON A GLOBAL STAGE Greater Macro Clarity Will Fuel Corporate M&A Globally, corporates are transitioning from net-sellers to net-buyers. Despite elevated interest rates and unusually high  regulatory uncertainty, corporate buyers still accounted for 71% of all deal activity through Q3\\u2014a stark contrast to the 61%  share of M&A in 2021 and 20226\\u2014reflecting a combination of pent-up demand, strong balance sheets, and a desire to refresh  portfolios through both separations and capability-enhancing acquisitions.  Increasing regulatory scrutiny in recent years has led to larger US deals ($10B+) taking nearly twice as long to close as they did  a decade ago.7 This governor on large-scale transactions has been exacerbated by hawkish monetary policy, a \\u201cdimmer switch\\u201d  for corporate M&A driving both valuations and debt financing costs. Merger arbitrage funds have been challenged by elongated  closing timelines and blocked mergers, and fundamental shareholders \"\n",
      "    },\n",
      "    {\n",
      "        \"metadata\": {\n",
      "            \"creation_date\": \"2025-01-29\",\n",
      "            \"file_name\": \"gs_MA_report.pdf\",\n",
      "            \"file_path\": \"gs_MA_report.pdf\",\n",
      "            \"file_size\": 1927766,\n",
      "            \"file_type\": \"application/pdf\",\n",
      "            \"last_modified_date\": \"2025-01-29\",\n",
      "            \"page_label\": \"7\"\n",
      "        },\n",
      "        \"similarity_score\": 8.0,\n",
      "        \"text\": \"7 2025 M&A OUTLOOK BUILDING MOMENTUM ON A GLOBAL STAGE Paradigm Shifts Catalyze Global Sponsor M&A The rebound in global sponsor activity has been a double-edged sword. Buy-side volumes are above 2015\\u20132021 averages, but  exits remain below historical levels,23 even as the number of sponsor-backed companies has soared. Sponsors will prioritize  exits amid ongoing pressure for deployment and liquidity: we expect 1,200+ portfolio companies $1B+ EV to exit via sale or IPO  over the next two to three years.24   With investors' continued focus on fund performance, distributions to paid-in capital (DPI) remain front and center. DPI sits   at the lowest levels since 2008, with post-2019 fund vintages receiving the greatest scrutiny, returning 0.1x DPI versus 0.6x   for 2015\\u20132018 vintages at Year 4.25 Sponsors are tapping into a range of creative alternatives to generate liquidity, including  co-control, minority stake sales, and continuation funds. That said, the outlook for sponsor activity\\u2014s\"\n",
      "    }\n",
      "]\n"
     ]
    }
   ],
   "source": [
    "print(pretty_json_rr)"
   ]
  },
  {
   "cell_type": "markdown",
   "metadata": {},
   "source": [
    "As you can see above, the Reranker has used LLM based retriever (vs. Embedding based retriever with Naive RAG) and retrieved right nodes for subsequent generation."
   ]
  },
  {
   "cell_type": "markdown",
   "metadata": {},
   "source": [
    "# Index Persistence into local chromaDB"
   ]
  },
  {
   "cell_type": "code",
   "execution_count": 21,
   "metadata": {},
   "outputs": [],
   "source": [
    "## persist index to disk\n",
    "db = chromadb.PersistentClient()\n",
    "chroma_collection = db.get_or_create_collection(\"rag-demo\")\n",
    "vector_store = ChromaVectorStore(chroma_collection=chroma_collection)\n",
    "storage_context = StorageContext.from_defaults(vector_store=vector_store)"
   ]
  },
  {
   "cell_type": "code",
   "execution_count": 22,
   "metadata": {},
   "outputs": [],
   "source": [
    "index.storage_context.persist(persist_dir=\"./chroma_db\")"
   ]
  },
  {
   "cell_type": "markdown",
   "metadata": {},
   "source": [
    "### END"
   ]
  }
 ],
 "metadata": {
  "kernelspec": {
   "display_name": "Python 3 (ipykernel)",
   "language": "python",
   "name": "python3"
  },
  "language_info": {
   "codemirror_mode": {
    "name": "ipython",
    "version": 3
   },
   "file_extension": ".py",
   "mimetype": "text/x-python",
   "name": "python",
   "nbconvert_exporter": "python",
   "pygments_lexer": "ipython3",
   "version": "3.9.12"
  }
 },
 "nbformat": 4,
 "nbformat_minor": 2
}
